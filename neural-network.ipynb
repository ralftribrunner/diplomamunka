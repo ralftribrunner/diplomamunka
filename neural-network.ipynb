{
 "cells": [
  {
   "cell_type": "code",
   "execution_count": 1,
   "metadata": {},
   "outputs": [],
   "source": [
    "import pandas as pd\n",
    "import tensorflow as tf\n",
    "from tensorflow import keras\n",
    "from sklearn.model_selection import train_test_split\n",
    "from tensorflow.keras.utils import to_categorical\n",
    "import matplotlib.pyplot as plt\n",
    "import numpy as np\n",
    "import seaborn as sns\n",
    "from sklearn.preprocessing import OneHotEncoder"
   ]
  },
  {
   "cell_type": "code",
   "execution_count": 2,
   "metadata": {},
   "outputs": [],
   "source": [
    "METRICS = [\n",
    "      keras.metrics.TruePositives(name='tp'),\n",
    "      keras.metrics.FalsePositives(name='fp'),\n",
    "      keras.metrics.TrueNegatives(name='tn'),\n",
    "      keras.metrics.FalseNegatives(name='fn'), \n",
    "      keras.metrics.BinaryAccuracy(name='accuracy'),\n",
    "      #keras.metrics.Precision(name='precision'),\n",
    "      #keras.metrics.Recall(name='recall'),\n",
    "      #keras.metrics.AUC(name='auc'),\n",
    "      #keras.metrics.AUC(name='prc', curve='PR'), # precision-recall curve\n",
    "]\n"
   ]
  },
  {
   "cell_type": "code",
   "execution_count": 3,
   "metadata": {},
   "outputs": [],
   "source": [
    "df = pd.read_excel('C:/Users/rtribrunner/Asztal/Thesis Workspace/Aut market size.xlsx', sheet_name='Marketing dataset')"
   ]
  },
  {
   "cell_type": "code",
   "execution_count": 4,
   "metadata": {},
   "outputs": [],
   "source": [
    "meret = df['Méret'].astype('category').cat.codes\n",
    "multi = df['Multi'].astype('category').cat.codes\n",
    "sector = df['Szektor'].astype('category').cat.codes\n",
    "features = pd.concat([meret, multi, sector],axis=1)\n",
    "labels = df['Termék'].astype('category').cat.codes\n",
    "NO_SCENARIOS = 24\n",
    "labels = labels[:-NO_SCENARIOS]\n",
    "labels = to_categorical(labels, num_classes=3)\n",
    "\n",
    "\n",
    "encoder = OneHotEncoder()\n",
    "encoder.fit(features)\n",
    "features = encoder.transform(features).toarray()\n",
    "\n",
    "scenarios = features[-NO_SCENARIOS:, :]\n",
    "features = features[:-NO_SCENARIOS, :]\n",
    "\n",
    "\n",
    "X_train, X_test, y_train, y_test = train_test_split(features, labels, test_size=0.35, random_state=42)"
   ]
  },
  {
   "cell_type": "code",
   "execution_count": 5,
   "metadata": {},
   "outputs": [
    {
     "name": "stdout",
     "output_type": "stream",
     "text": [
      "Epoch 1/20\n",
      "22/22 [==============================] - 3s 4ms/step - loss: 1.3801 - tp: 0.0000e+00 - fp: 1.0000 - tn: 43.0000 - fn: 22.0000 - accuracy: 0.6515\n",
      "Epoch 2/20\n",
      "22/22 [==============================] - 0s 4ms/step - loss: 1.3671 - tp: 0.0000e+00 - fp: 0.0000e+00 - tn: 44.0000 - fn: 22.0000 - accuracy: 0.6667\n",
      "Epoch 3/20\n",
      "22/22 [==============================] - 0s 5ms/step - loss: 1.2143 - tp: 3.0000 - fp: 2.0000 - tn: 42.0000 - fn: 19.0000 - accuracy: 0.6818\n",
      "Epoch 4/20\n",
      "22/22 [==============================] - 0s 5ms/step - loss: 1.1030 - tp: 14.0000 - fp: 2.0000 - tn: 42.0000 - fn: 8.0000 - accuracy: 0.8485 \n",
      "Epoch 5/20\n",
      "22/22 [==============================] - 0s 3ms/step - loss: 1.2267 - tp: 15.0000 - fp: 3.0000 - tn: 41.0000 - fn: 7.0000 - accuracy: 0.8485\n",
      "Epoch 6/20\n",
      "22/22 [==============================] - 0s 4ms/step - loss: 1.1257 - tp: 15.0000 - fp: 3.0000 - tn: 41.0000 - fn: 7.0000 - accuracy: 0.8485\n",
      "Epoch 7/20\n",
      "22/22 [==============================] - 0s 5ms/step - loss: 1.0139 - tp: 15.0000 - fp: 3.0000 - tn: 41.0000 - fn: 7.0000 - accuracy: 0.8485 \n",
      "Epoch 8/20\n",
      "22/22 [==============================] - 0s 4ms/step - loss: 0.9041 - tp: 16.0000 - fp: 1.0000 - tn: 43.0000 - fn: 6.0000 - accuracy: 0.8939\n",
      "Epoch 9/20\n",
      "22/22 [==============================] - 0s 3ms/step - loss: 0.9156 - tp: 16.0000 - fp: 4.0000 - tn: 40.0000 - fn: 6.0000 - accuracy: 0.8485\n",
      "Epoch 10/20\n",
      "22/22 [==============================] - 0s 3ms/step - loss: 0.8663 - tp: 16.0000 - fp: 1.0000 - tn: 43.0000 - fn: 6.0000 - accuracy: 0.8939\n",
      "Epoch 11/20\n",
      "22/22 [==============================] - 0s 4ms/step - loss: 0.8452 - tp: 15.0000 - fp: 3.0000 - tn: 41.0000 - fn: 7.0000 - accuracy: 0.8485 \n",
      "Epoch 12/20\n",
      "22/22 [==============================] - 0s 4ms/step - loss: 0.8728 - tp: 16.0000 - fp: 3.0000 - tn: 41.0000 - fn: 6.0000 - accuracy: 0.8636 \n",
      "Epoch 13/20\n",
      "22/22 [==============================] - 0s 4ms/step - loss: 0.9208 - tp: 17.0000 - fp: 4.0000 - tn: 40.0000 - fn: 5.0000 - accuracy: 0.8636\n",
      "Epoch 14/20\n",
      "22/22 [==============================] - 0s 10ms/step - loss: 0.7042 - tp: 17.0000 - fp: 2.0000 - tn: 42.0000 - fn: 5.0000 - accuracy: 0.8939\n",
      "Epoch 15/20\n",
      "22/22 [==============================] - 0s 7ms/step - loss: 0.7772 - tp: 19.0000 - fp: 2.0000 - tn: 42.0000 - fn: 3.0000 - accuracy: 0.9242\n",
      "Epoch 16/20\n",
      "22/22 [==============================] - 0s 11ms/step - loss: 0.6748 - tp: 17.0000 - fp: 3.0000 - tn: 41.0000 - fn: 5.0000 - accuracy: 0.8788\n",
      "Epoch 17/20\n",
      "22/22 [==============================] - 0s 8ms/step - loss: 0.6100 - tp: 19.0000 - fp: 1.0000 - tn: 43.0000 - fn: 3.0000 - accuracy: 0.9394\n",
      "Epoch 18/20\n",
      "22/22 [==============================] - 0s 6ms/step - loss: 0.5836 - tp: 19.0000 - fp: 0.0000e+00 - tn: 44.0000 - fn: 3.0000 - accuracy: 0.9545\n",
      "Epoch 19/20\n",
      "22/22 [==============================] - 0s 5ms/step - loss: 0.6856 - tp: 17.0000 - fp: 4.0000 - tn: 40.0000 - fn: 5.0000 - accuracy: 0.8636\n",
      "Epoch 20/20\n",
      "22/22 [==============================] - 0s 5ms/step - loss: 0.6400 - tp: 19.0000 - fp: 2.0000 - tn: 42.0000 - fn: 3.0000 - accuracy: 0.9242\n",
      "2/2 [==============================] - 1s 5ms/step - loss: 0.8521 - tp: 24.0000 - fp: 7.0000 - tn: 63.0000 - fn: 11.0000 - accuracy: 0.8286\n",
      "Test accuracy: 0.8285714387893677\n"
     ]
    }
   ],
   "source": [
    "marketing_model = tf.keras.Sequential([\n",
    "      tf.keras.layers.Dense(64, activation='relu',input_shape=(12,)),\n",
    "      tf.keras.layers.Dropout(0.5),\n",
    "      tf.keras.layers.Dense(64, activation='relu'),\n",
    "      tf.keras.layers.Dense(3, activation='softmax'),\n",
    "])\n",
    "\n",
    "marketing_model.compile(optimizer='adam',\n",
    "      loss=keras.losses.CategoricalCrossentropy(),\n",
    "      metrics=METRICS)\n",
    "\n",
    "class_weights = { 0: 2, 1: 1, 2: 3.5 } # nagy súly - kis százalék\n",
    "\n",
    "BATCH_SIZE = 1 \n",
    "\n",
    "marketing_history = marketing_model.fit(\n",
    "    X_train,\n",
    "    y_train,\n",
    "    batch_size=BATCH_SIZE,\n",
    "    epochs=20,\n",
    "    class_weight=class_weights\n",
    "    )\n",
    "\n",
    "loss, tp, fp, tn, fn, test_acc = marketing_model.evaluate(features, labels)\n",
    "print('Test accuracy:', test_acc)\n"
   ]
  },
  {
   "cell_type": "code",
   "execution_count": 6,
   "metadata": {},
   "outputs": [
    {
     "name": "stdout",
     "output_type": "stream",
     "text": [
      "1/1 [==============================] - 0s 166ms/step\n",
      "Predicted: [[0.06652851 0.8970501  0.03642135]\n",
      " [0.1706996  0.7855578  0.04374256]\n",
      " [0.07689264 0.7665632  0.15654422]\n",
      " [0.1194737  0.76081467 0.11971159]\n",
      " [0.05940019 0.9344119  0.00618799]\n",
      " [0.2993874  0.6917006  0.00891193]\n",
      " [0.06278621 0.89872426 0.03848941]\n",
      " [0.2511931  0.6960241  0.05278278]\n",
      " [0.330787   0.6422959  0.02691706]\n",
      " [0.73244816 0.25307778 0.01447404]\n",
      " [0.452632   0.4603463  0.08702166]\n",
      " [0.6092081  0.34026837 0.0505236 ]\n",
      " [0.33279046 0.64223933 0.02497022]\n",
      " [0.6842692  0.2987304  0.01700041]\n",
      " [0.48158    0.4112092  0.10721079]\n",
      " [0.6458505  0.2981964  0.05595313]\n",
      " [0.03406966 0.9549826  0.01094784]\n",
      " [0.12469428 0.86229044 0.01301522]\n",
      " [0.04675416 0.9230614  0.03018453]\n",
      " [0.08276985 0.88372964 0.03350055]\n",
      " [0.55766153 0.4136685  0.02866994]\n",
      " [0.68609977 0.29335496 0.02054523]\n",
      " [0.5253953  0.39324382 0.08136094]\n",
      " [0.51104206 0.42615324 0.06280467]]\n"
     ]
    }
   ],
   "source": [
    "prediction = marketing_model.predict(scenarios)\n",
    "\n",
    "print(\"Predicted: \"+ str(prediction))\n",
    "#print(\"Forecasted: \"+ str(y_test))"
   ]
  },
  {
   "cell_type": "code",
   "execution_count": 8,
   "metadata": {},
   "outputs": [],
   "source": [
    "output = pd.DataFrame(prediction)\n",
    "\n",
    "output_file = \"output.xlsx\"\n",
    "\n",
    "output.to_excel(output_file, index=False)\n",
    "\n",
    "#Forrás: https://www.tensorflow.org/tutorials/structured_data/imbalanced_data#class_weights"
   ]
  }
 ],
 "metadata": {
  "kernelspec": {
   "display_name": "Python 3",
   "language": "python",
   "name": "python3"
  },
  "language_info": {
   "codemirror_mode": {
    "name": "ipython",
    "version": 3
   },
   "file_extension": ".py",
   "mimetype": "text/x-python",
   "name": "python",
   "nbconvert_exporter": "python",
   "pygments_lexer": "ipython3",
   "version": "3.11.3"
  },
  "orig_nbformat": 4
 },
 "nbformat": 4,
 "nbformat_minor": 2
}
